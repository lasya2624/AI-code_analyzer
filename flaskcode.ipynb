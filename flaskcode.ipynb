{
 "cells": [
  {
   "cell_type": "code",
   "execution_count": null,
   "id": "117e3583",
   "metadata": {},
   "outputs": [],
   "source": [
    "#step1\n",
    "pip install flask-ngrok flask-cors transformers --quiet\n",
    "# Step 2: Install required packages\n",
    "pip install flask flask-cors pyngrok transformers --quiet\n",
    "# step 3\n",
    "from pyngrok import conf\n",
    "conf.get_default().auth_token = \"2vIY6uW.......................6VSDEot\"#paste yor auth token here.\n",
    "#step 4 (final step)\n",
    "# Step 1: Install Required Packages (Run this once in Colab)\n",
    "\n",
    "# Step 2: Import Libraries\n",
    "from flask import Flask, request, jsonify\n",
    "from flask_cors import CORS\n",
    "from pyngrok import ngrok\n",
    "from transformers import RobertaTokenizer, T5ForConditionalGeneration\n",
    "import torch\n",
    "\n",
    "# Step 3: Load Your Model & Tokenizer\n",
    "model_path = \"/content/code_explainer_model\"\n",
    "tokenizer = RobertaTokenizer.from_pretrained(model_path)\n",
    "model = T5ForConditionalGeneration.from_pretrained(model_path)\n",
    "\n",
    "# Step 4: Setup Flask App with CORS\n",
    "app = Flask(__name__)\n",
    "CORS(app)\n",
    "\n",
    "@app.route('/analyze', methods=['POST'])\n",
    "def analyze():\n",
    "    data = request.get_json()\n",
    "    code = data.get(\"code\", \"\")\n",
    "\n",
    "    if not code.strip():\n",
    "        return jsonify({\"error\": \"Empty code\"}), 400\n",
    "\n",
    "    input_text = \"explain and document: \" + code\n",
    "    inputs = tokenizer(input_text, return_tensors=\"pt\", max_length=512, truncation=True)\n",
    "    \n",
    "    with torch.no_grad():\n",
    "        outputs = model.generate(**inputs, max_length=512)\n",
    "    \n",
    "    result = tokenizer.decode(outputs[0], skip_special_tokens=True)\n",
    "    return jsonify({\"result\": result.strip()})\n",
    "\n",
    "# Step 5: Run App with ngrok\n",
    "port = 5000\n",
    "public_url = ngrok.connect(port)\n",
    "print(f\"🔗 Public ngrok URL: {public_url}\")\n",
    "app.run(port=port)\n"
   ]
  }
 ],
 "metadata": {
  "language_info": {
   "name": "python"
  }
 },
 "nbformat": 4,
 "nbformat_minor": 5
}
